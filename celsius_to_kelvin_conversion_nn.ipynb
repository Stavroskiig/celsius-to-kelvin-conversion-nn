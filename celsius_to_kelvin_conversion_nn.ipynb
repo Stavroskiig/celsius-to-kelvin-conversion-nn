{
  "nbformat": 4,
  "nbformat_minor": 0,
  "metadata": {
    "colab": {
      "provenance": [],
      "authorship_tag": "ABX9TyO2hAZwbcAgINCU482jxRW3",
      "include_colab_link": true
    },
    "kernelspec": {
      "name": "python3",
      "display_name": "Python 3"
    },
    "language_info": {
      "name": "python"
    }
  },
  "cells": [
    {
      "cell_type": "markdown",
      "metadata": {
        "id": "view-in-github",
        "colab_type": "text"
      },
      "source": [
        "<a href=\"https://colab.research.google.com/github/Stavroskiig/celsius-to-kelvin-conversion-nn/blob/main/celsius_to_kelvin_conversion_nn.ipynb\" target=\"_parent\"><img src=\"https://colab.research.google.com/assets/colab-badge.svg\" alt=\"Open In Colab\"/></a>"
      ]
    },
    {
      "cell_type": "markdown",
      "source": [
        "First, import TensorFlow and NumPy."
      ],
      "metadata": {
        "id": "skcBVPqP5mrH"
      }
    },
    {
      "cell_type": "code",
      "execution_count": 20,
      "metadata": {
        "id": "FxOdz0bf3uwN"
      },
      "outputs": [],
      "source": [
        "import tensorflow as tf\n",
        "import numpy as np"
      ]
    },
    {
      "cell_type": "markdown",
      "source": [
        "We will display only log messages with a severity of ERROR or higher (e.g., ERROR, CRITICAL)."
      ],
      "metadata": {
        "id": "6XV3TFnW6RHU"
      }
    },
    {
      "cell_type": "code",
      "source": [
        "import logging\n",
        "logger = tf.get_logger()\n",
        "logger.setLevel(logging.ERROR)"
      ],
      "metadata": {
        "id": "775MT1Y4344M"
      },
      "execution_count": 21,
      "outputs": []
    },
    {
      "cell_type": "markdown",
      "source": [
        "We create two lists `celsius_q` and `kelvin_a` to train our model."
      ],
      "metadata": {
        "id": "gEGRx4ZB6jXe"
      }
    },
    {
      "cell_type": "code",
      "source": [
        "celsius_q = np.array([-30, -15, 0, 10, 18, 25, 40], dtype=float)\n",
        "kelvin_a = np.array([243.15, 258.15, 273.15, 283.15, 291.15, 298.15, 313.15], dtype=float)\n",
        "\n",
        "for i,c in enumerate(celsius_q):\n",
        "  print(\"{} degrees Celsius = {} degrees Kelvin\".format(c, kelvin_a[i]))"
      ],
      "metadata": {
        "colab": {
          "base_uri": "https://localhost:8080/"
        },
        "id": "_y-6pSIE377w",
        "outputId": "b975ed7d-b5a3-4d39-c43c-673da2b60db3"
      },
      "execution_count": 3,
      "outputs": [
        {
          "output_type": "stream",
          "name": "stdout",
          "text": [
            "-30.0 degrees Celsius = 243.15 degrees Kelvin\n",
            "-15.0 degrees Celsius = 258.15 degrees Kelvin\n",
            "0.0 degrees Celsius = 273.15 degrees Kelvin\n",
            "10.0 degrees Celsius = 283.15 degrees Kelvin\n",
            "18.0 degrees Celsius = 291.15 degrees Kelvin\n",
            "25.0 degrees Celsius = 298.15 degrees Kelvin\n",
            "40.0 degrees Celsius = 313.15 degrees Kelvin\n"
          ]
        }
      ]
    },
    {
      "cell_type": "markdown",
      "source": [
        "Build a dense network layer with 1 neuron and single value input."
      ],
      "metadata": {
        "id": "Y4rhjOdl65Y-"
      }
    },
    {
      "cell_type": "code",
      "source": [
        "l0 = tf.keras.layers.Dense(units=1, input_shape=[1])"
      ],
      "metadata": {
        "id": "Lsy-KIJP39wW"
      },
      "execution_count": 4,
      "outputs": []
    },
    {
      "cell_type": "markdown",
      "source": [
        "Assemble into a model."
      ],
      "metadata": {
        "id": "KNMjwfNf7IaS"
      }
    },
    {
      "cell_type": "code",
      "source": [
        "model = tf.keras.Sequential([l0])"
      ],
      "metadata": {
        "id": "H05Dbi9R3-z2"
      },
      "execution_count": 5,
      "outputs": []
    },
    {
      "cell_type": "code",
      "source": [],
      "metadata": {
        "id": "7PM1QCkx7caZ"
      },
      "execution_count": null,
      "outputs": []
    },
    {
      "cell_type": "markdown",
      "source": [
        "We compile the model with loss and optimizer functions."
      ],
      "metadata": {
        "id": "Ti55NsOd7THP"
      }
    },
    {
      "cell_type": "code",
      "source": [
        "model.compile(loss='mean_squared_error',\n",
        "              optimizer=tf.keras.optimizers.Adam(0.1))"
      ],
      "metadata": {
        "id": "WVpVEfX24AE-"
      },
      "execution_count": 6,
      "outputs": []
    },
    {
      "cell_type": "markdown",
      "source": [
        "Now we train the model."
      ],
      "metadata": {
        "id": "5d1GC-yV7bCV"
      }
    },
    {
      "cell_type": "code",
      "source": [
        "history = model.fit(celsius_q, kelvin_a, epochs=2500, verbose=False)\n",
        "print(\"Finished training the model\")"
      ],
      "metadata": {
        "colab": {
          "base_uri": "https://localhost:8080/"
        },
        "id": "FtbOGQzV4BRl",
        "outputId": "1ca4ebb6-5818-42de-c110-e40ef8ad050e"
      },
      "execution_count": 15,
      "outputs": [
        {
          "output_type": "stream",
          "name": "stdout",
          "text": [
            "Finished training the model\n"
          ]
        }
      ]
    },
    {
      "cell_type": "markdown",
      "source": [
        "Also, we can display training statistics. With trial and error we selected 2500 epochs."
      ],
      "metadata": {
        "id": "kFGiwUsW7lYe"
      }
    },
    {
      "cell_type": "code",
      "source": [
        "import matplotlib.pyplot as plt\n",
        "plt.xlabel('Epoch Number')\n",
        "plt.ylabel(\"Loss Magnitude\")\n",
        "plt.plot(history.history['loss'])"
      ],
      "metadata": {
        "colab": {
          "base_uri": "https://localhost:8080/",
          "height": 466
        },
        "id": "FKt9A5J54CpT",
        "outputId": "b1bd02e1-f9c0-40f0-e827-2a93545b754f"
      },
      "execution_count": 17,
      "outputs": [
        {
          "output_type": "execute_result",
          "data": {
            "text/plain": [
              "[<matplotlib.lines.Line2D at 0x7c4f7ad19f30>]"
            ]
          },
          "metadata": {},
          "execution_count": 17
        },
        {
          "output_type": "display_data",
          "data": {
            "text/plain": [
              "<Figure size 640x480 with 1 Axes>"
            ],
            "image/png": "[encoded data removed]"
          },
          "metadata": {}
        }
      ]
    },
    {
      "cell_type": "markdown",
      "source": [
        "We can now predict a value, for example $100$."
      ],
      "metadata": {
        "id": "YW5MYWTM7vWv"
      }
    },
    {
      "cell_type": "code",
      "source": [
        "print(model.predict([100.0]))"
      ],
      "metadata": {
        "colab": {
          "base_uri": "https://localhost:8080/"
        },
        "id": "iCtUZTG04Ej5",
        "outputId": "d2db6bcb-66f4-47c0-99b3-a03b36b15c25"
      },
      "execution_count": 18,
      "outputs": [
        {
          "output_type": "stream",
          "name": "stdout",
          "text": [
            "1/1 [==============================] - 0s 97ms/step\n",
            "[[373.15036]]\n"
          ]
        }
      ]
    },
    {
      "cell_type": "markdown",
      "source": [
        "The correct answer is  $100 + 273.15 = 373.15$, so our model is good."
      ],
      "metadata": {
        "id": "MpYx2Agm5Fba"
      }
    },
    {
      "cell_type": "code",
      "source": [
        "print(\"These are the layer variables: {}\".format(l0.get_weights()))"
      ],
      "metadata": {
        "colab": {
          "base_uri": "https://localhost:8080/"
        },
        "id": "SSRvcCyt4GHm",
        "outputId": "e2848dc4-5e0c-46e5-b125-05a5ff61f813"
      },
      "execution_count": 19,
      "outputs": [
        {
          "output_type": "stream",
          "name": "stdout",
          "text": [
            "These are the layer variables: [array([[1.0000168]], dtype=float32), array([273.14868], dtype=float32)]\n"
          ]
        }
      ]
    },
    {
      "cell_type": "markdown",
      "source": [
        "The first variable is close to ~1.0 and the second to ~273.15. These values (1.0 and 273.15) are the actual variables in the real conversion formula.\n",
        "\n",
        "For a single neuron with a single input and a single output, the internal math looks the same as $y = mx + b$, which has the same form as the conversion equation, $f = 1.0c + 273.15$."
      ],
      "metadata": {
        "id": "y0rSBtc08DhI"
      }
    }
  ]
}